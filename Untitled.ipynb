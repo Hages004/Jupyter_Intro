{
 "cells": [
  {
   "cell_type": "code",
   "execution_count": null,
   "id": "980ba5e8-6663-48a0-ae3d-f3e61911dfd3",
   "metadata": {},
   "outputs": [],
   "source": []
  },
  {
   "cell_type": "code",
   "execution_count": 1,
   "id": "c6a3e86b-a56c-4565-95d0-26cf8a79c88a",
   "metadata": {},
   "outputs": [],
   "source": []
  },
  {
   "cell_type": "code",
   "execution_count": 2,
   "id": "771e0c9b-4ba7-4c7c-a987-e095d69fe4a7",
   "metadata": {},
   "outputs": [],
   "source": [
    "# Code cell is used to run the code/scripts\n",
    "# Markdown cell-used for stam/instruct/insights -  format\n",
    "# Raw cell -  No change can  be done, if you wnat o preserve any code /scripts u can make use of it"
   ]
  },
  {
   "cell_type": "code",
   "execution_count": null,
   "id": "d9cc8ec2-b6bf-49b2-9861-dc83dfaf5ba7",
   "metadata": {},
   "outputs": [],
   "source": [
    "# SHORTCUT KEYS FOR COMMAND MODE\n",
    "# a = Inserting a cell above the cell\n",
    "# b = Inserting a cell below the cell\n",
    "# dd = Deleting a particular cell\n",
    "# z = Undo a deleted cell\n",
    "# r = Convert a cell to markdown cell\n",
    "# c = Copy a cell\n",
    "# v = Paste a cell\n",
    "# x = Cut a cell\n",
    "# o = Toggle a cell"
   ]
  },
  {
   "cell_type": "code",
   "execution_count": 3,
   "id": "3e203e94-12a1-4df5-af1a-a71c9f9699ee",
   "metadata": {},
   "outputs": [],
   "source": [
    "# SHORTCUT KEYS FOR EDIT MODE\n",
    "# Ctrl+c = Copy\n",
    "# Ctrl+v = Paste\n",
    "# Ctrl+z = Undo"
   ]
  },
  {
   "cell_type": "code",
   "execution_count": 4,
   "id": "692025f1-94dd-47cc-93b7-aee23621a78e",
   "metadata": {},
   "outputs": [],
   "source": [
    "# KEYWORDS are reserved words meant for functions and cannot to be used for variable name.\n",
    "# IDENTIFIERS are unique value, identify/label to your variable, entity and it will follow some rules.\n",
    "# Rules for identifiers (Variables):\n",
    "     #1. Should not start with digits.\n",
    "     #2. Should not use special characters except underscore(_), To ensure the readability of the code.\n",
    "     #3. Keywords should not be used as a identfiers.\n",
    "# COMMENTS in a code can explain the method or operation in use. Commenting helps to improve readability and to make a quick review of the work."
   ]
  },
  {
   "cell_type": "code",
   "execution_count": 10,
   "id": "0b9c1836-fbd5-4b96-a35f-92449009e4fc",
   "metadata": {},
   "outputs": [],
   "source": [
    "Name=\"Hages\""
   ]
  },
  {
   "cell_type": "code",
   "execution_count": 11,
   "id": "95e4227d-aa05-4fc4-b9d6-f52d871f4dd5",
   "metadata": {},
   "outputs": [],
   "source": [
    "Name_DM=\"Hages\""
   ]
  },
  {
   "cell_type": "code",
   "execution_count": null,
   "id": "28529d7e-e10f-451e-bd3b-1aa6bca7be5d",
   "metadata": {},
   "outputs": [],
   "source": []
  }
 ],
 "metadata": {
  "kernelspec": {
   "display_name": "Python 3 (ipykernel)",
   "language": "python",
   "name": "python3"
  },
  "language_info": {
   "codemirror_mode": {
    "name": "ipython",
    "version": 3
   },
   "file_extension": ".py",
   "mimetype": "text/x-python",
   "name": "python",
   "nbconvert_exporter": "python",
   "pygments_lexer": "ipython3",
   "version": "3.12.7"
  }
 },
 "nbformat": 4,
 "nbformat_minor": 5
}
